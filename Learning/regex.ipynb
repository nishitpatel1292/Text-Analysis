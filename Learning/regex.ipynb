{
 "cells": [
  {
   "cell_type": "code",
   "execution_count": 2,
   "metadata": {},
   "outputs": [],
   "source": [
    "import re\n",
    "pattern='\\d{10}|\\(\\d{3}\\)-\\d{3}-\\d{4}'\n"
   ]
  },
  {
   "cell_type": "code",
   "execution_count": 10,
   "metadata": {},
   "outputs": [
    {
     "data": {
      "text/plain": [
       "['9313382301', '(233)-933-7777']"
      ]
     },
     "execution_count": 10,
     "metadata": {},
     "output_type": "execute_result"
    }
   ],
   "source": [
    "text = \"Lorem ipsum dolor sit amet, consectetur adipiscing elit. Nullam accumsan, velit at vehicula tristique, justo lorem@example.com, at sodales dolor. Curabitur euismod ante ut ante placerat, ut euismod turpis support@website.org. Proin ut velit in felis interdum dictum. Nunc vitae erat euismod, venenatis lorem@example.com ac, suscipit justo. Sed auctor augue at enim commodo, in suscipit elit tincidunt. Donec eget ante ac turpis convallis info@company.net. Nulla facilisi. Vestibulum nec lectus sit amet diam condimentum auctor. Phasellus pulvinar, ipsum in commodo congue, augue magna, nec fermentum nulla libero eu l 9313382301 (233)-933-7777\"\n",
    "pattern='\\d{10}|\\(\\d{3}\\)-\\d{3}-\\d{4}'\n",
    "re.findall(pattern,text)"
   ]
  }
 ],
 "metadata": {
  "kernelspec": {
   "display_name": "base",
   "language": "python",
   "name": "python3"
  },
  "language_info": {
   "codemirror_mode": {
    "name": "ipython",
    "version": 3
   },
   "file_extension": ".py",
   "mimetype": "text/x-python",
   "name": "python",
   "nbconvert_exporter": "python",
   "pygments_lexer": "ipython3",
   "version": "3.11.3"
  }
 },
 "nbformat": 4,
 "nbformat_minor": 2
}
