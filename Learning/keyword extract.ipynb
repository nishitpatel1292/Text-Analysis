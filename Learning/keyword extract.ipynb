{
 "cells": [
  {
   "cell_type": "code",
   "execution_count": 22,
   "id": "3aec1a2e",
   "metadata": {},
   "outputs": [],
   "source": [
    "from nltk.tokenize import word_tokenize\n",
    "from nltk.corpus import stopwords\n",
    "from wordcloud import WordCloud\n",
    "from collections import Counter\n"
   ]
  },
  {
   "cell_type": "code",
   "execution_count": null,
   "id": "2c05236f",
   "metadata": {},
   "outputs": [],
   "source": []
  },
  {
   "cell_type": "markdown",
   "id": "f5037582",
   "metadata": {},
   "source": [
    "Preprocessing Text"
   ]
  },
  {
   "cell_type": "code",
   "execution_count": 102,
   "id": "84923adf",
   "metadata": {},
   "outputs": [],
   "source": [
    "def generate_keyword_cloud(file_path,chunk_size=10000):\n",
    "     all_words_freq = Counter()\n",
    "     with open(file_path,'r', encoding='utf-8') as file:\n",
    "          while True:\n",
    "            chunk = file.read(chunk_size)\n",
    "\n",
    "            if not chunk:\n",
    "                 break   \n",
    "          #   Tokenizing the words with lower case     \n",
    "            words = word_tokenize(chunk.lower())   \n",
    "\n",
    "            # Remove stop words\n",
    "            stop_words = set(stopwords.words('english'))\n",
    "\n",
    "            words = [word for word in words if word.isalnum() and not any(char.isdigit() for char in word) and word not in stop_words]\n",
    "            \n",
    "\n",
    "            # Calculate word frequencies for current chunk\n",
    "            word_freq = Counter(words)\n",
    "\n",
    "            all_words_freq += word_freq\n",
    "\n",
    "   \n",
    "     sorted_word_freq = sorted(all_words_freq.items(),key=lambda x:x[1], reverse=True)\n",
    "\n",
    "     top_30_words = sorted_word_freq[:10]\n",
    "    \n",
    "\n",
    "     return top_30_words"
   ]
  },
  {
   "cell_type": "code",
   "execution_count": 103,
   "id": "0833a1e4",
   "metadata": {},
   "outputs": [
    {
     "data": {
      "text/plain": [
       "[('vel', 19),\n",
       " ('sit', 16),\n",
       " ('nec', 16),\n",
       " ('amet', 15),\n",
       " ('id', 15),\n",
       " ('ipsum', 14),\n",
       " ('mauris', 14),\n",
       " ('sed', 13),\n",
       " ('donec', 13),\n",
       " ('eu', 13)]"
      ]
     },
     "execution_count": 103,
     "metadata": {},
     "output_type": "execute_result"
    }
   ],
   "source": [
    "final_words = generate_keyword_cloud('dummy.txt')\n",
    "final_words"
   ]
  },
  {
   "cell_type": "code",
   "execution_count": 111,
   "id": "379d9a5d",
   "metadata": {},
   "outputs": [
    {
     "data": {
      "text/plain": [
       "<wordcloud.wordcloud.WordCloud at 0x1fd79cb5310>"
      ]
     },
     "execution_count": 111,
     "metadata": {},
     "output_type": "execute_result"
    }
   ],
   "source": [
    "from wordcloud import WordCloud\n",
    "\n",
    "\n",
    "wordcloud = WordCloud(background_color='white', colormap='viridis', prefer_horizontal=0.7).generate_from_frequencies(dict(final_words))\n",
    "\n",
    "wordcloud.to_file('wordcloud_image.png')\n"
   ]
  },
  {
   "cell_type": "code",
   "execution_count": 1,
   "id": "0317c34b",
   "metadata": {},
   "outputs": [
    {
     "name": "stdout",
     "output_type": "stream",
     "text": [
      "Accuracy: 0.6666666666666666\n"
     ]
    },
    {
     "name": "stderr",
     "output_type": "stream",
     "text": [
      "[nltk_data] Downloading package vader_lexicon to\n",
      "[nltk_data]     C:\\Users\\nishi\\AppData\\Roaming\\nltk_data...\n",
      "[nltk_data]   Package vader_lexicon is already up-to-date!\n"
     ]
    }
   ],
   "source": [
    "import nltk\n",
    "from nltk.sentiment import SentimentIntensityAnalyzer\n",
    "\n",
    "# Load the SentimentIntensityAnalyzer model\n",
    "nltk.download('vader_lexicon')\n",
    "sia = SentimentIntensityAnalyzer()\n"
   ]
  },
  {
   "cell_type": "code",
   "execution_count": 2,
   "id": "fb7783be",
   "metadata": {},
   "outputs": [
    {
     "name": "stdout",
     "output_type": "stream",
     "text": [
      "{'neg': 0.0, 'neu': 0.308, 'pos': 0.692, 'compound': 0.6696} 0.6696\n",
      "{'neg': 0.508, 'neu': 0.492, 'pos': 0.0, 'compound': -0.4767} -0.4767\n",
      "{'neg': 0.0, 'neu': 0.678, 'pos': 0.322, 'compound': 0.2263} 0.2263\n",
      "Accuracy: 0.6666666666666666\n"
     ]
    }
   ],
   "source": [
    "\n",
    "def evaluate_accuracy(dataset):\n",
    "    correct_predictions = 0\n",
    "    total_samples = len(dataset)\n",
    "\n",
    "    for text, true_label in dataset:\n",
    "        # Perform sentiment analysis using SIA\n",
    "        sentiment = sia.polarity_scores(text)\n",
    "        predicted_label = get_predicted_label(sentiment)\n",
    "\n",
    "        # Check if the predicted label matches the ground truth label\n",
    "        if predicted_label == true_label:\n",
    "            correct_predictions += 1\n",
    "\n",
    "    # Calculate accuracy\n",
    "    accuracy = correct_predictions / total_samples\n",
    "    return accuracy\n",
    "\n",
    "def get_predicted_label(sentiment):\n",
    "    # Determine the predicted label based on the sentiment scores\n",
    "    compound_score = sentiment['compound']\n",
    "    print(sentiment, compound_score)\n",
    "    if compound_score >= 0.05:\n",
    "        return 'positive'\n",
    "    elif compound_score <= -0.05:\n",
    "        return 'negative'\n",
    "    else:\n",
    "        return 'neutral'\n",
    "\n",
    "\n",
    "labeled_dataset = [\n",
    "    (\"I love this movie!\", \"positive\"),\n",
    "    (\"This movie is terrible.\", \"negative\"),\n",
    "    (\"The weather today is okay.\", \"neutral\")\n",
    "]\n",
    "\n",
    "# Evaluate accuracy on the labeled dataset\n",
    "accuracy = evaluate_accuracy(labeled_dataset)\n",
    "print(\"Accuracy:\", accuracy)\n"
   ]
  },
  {
   "cell_type": "code",
   "execution_count": null,
   "id": "8c8965eb",
   "metadata": {},
   "outputs": [],
   "source": []
  }
 ],
 "metadata": {
  "kernelspec": {
   "display_name": "Python 3 (ipykernel)",
   "language": "python",
   "name": "python3"
  },
  "language_info": {
   "codemirror_mode": {
    "name": "ipython",
    "version": 3
   },
   "file_extension": ".py",
   "mimetype": "text/x-python",
   "name": "python",
   "nbconvert_exporter": "python",
   "pygments_lexer": "ipython3",
   "version": "3.11.3"
  }
 },
 "nbformat": 4,
 "nbformat_minor": 5
}
